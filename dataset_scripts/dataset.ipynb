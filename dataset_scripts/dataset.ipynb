{
 "cells": [
  {
   "cell_type": "code",
   "execution_count": 2,
   "metadata": {},
   "outputs": [
    {
     "name": "stderr",
     "output_type": "stream",
     "text": [
      "c:\\ProgramData\\anaconda3.2\\envs\\ML\\lib\\site-packages\\tqdm\\auto.py:21: TqdmWarning: IProgress not found. Please update jupyter and ipywidgets. See https://ipywidgets.readthedocs.io/en/stable/user_install.html\n",
      "  from .autonotebook import tqdm as notebook_tqdm\n"
     ]
    }
   ],
   "source": [
    "import pandas as pd\n",
    "import kagglehub\n",
    "import os"
   ]
  },
  {
   "cell_type": "code",
   "execution_count": 3,
   "metadata": {},
   "outputs": [
    {
     "name": "stdout",
     "output_type": "stream",
     "text": [
      "Warning: Looks like you're using an outdated `kagglehub` version, please consider updating (latest version: 0.3.5)\n"
     ]
    }
   ],
   "source": [
    "path = kagglehub.dataset_download(\"frankossai/natural-questions-dataset\")\n"
   ]
  },
  {
   "cell_type": "code",
   "execution_count": 4,
   "metadata": {},
   "outputs": [],
   "source": [
    "files = os.listdir(path)\n",
    "datasets={}\n",
    "for i in files:\n",
    "    data=pd.read_csv(f'{path}\\{i}')\n",
    "    datasets[i.split('.')[0]]=data"
   ]
  },
  {
   "cell_type": "code",
   "execution_count": 5,
   "metadata": {},
   "outputs": [
    {
     "data": {
      "text/html": [
       "<div>\n",
       "<style scoped>\n",
       "    .dataframe tbody tr th:only-of-type {\n",
       "        vertical-align: middle;\n",
       "    }\n",
       "\n",
       "    .dataframe tbody tr th {\n",
       "        vertical-align: top;\n",
       "    }\n",
       "\n",
       "    .dataframe thead th {\n",
       "        text-align: right;\n",
       "    }\n",
       "</style>\n",
       "<table border=\"1\" class=\"dataframe\">\n",
       "  <thead>\n",
       "    <tr style=\"text-align: right;\">\n",
       "      <th></th>\n",
       "      <th>question</th>\n",
       "      <th>long_answers</th>\n",
       "      <th>short_answers</th>\n",
       "    </tr>\n",
       "  </thead>\n",
       "  <tbody>\n",
       "    <tr>\n",
       "      <th>0</th>\n",
       "      <td>which is the most common use of opt-in e-mail ...</td>\n",
       "      <td>A common example of permission marketing is a ...</td>\n",
       "      <td>A newsletter sent to an advertising firm's cus...</td>\n",
       "    </tr>\n",
       "    <tr>\n",
       "      <th>1</th>\n",
       "      <td>how i.met your mother who is the mother</td>\n",
       "      <td>Tracy McConnell, better known as `` The Mother...</td>\n",
       "      <td>Tracy McConnell</td>\n",
       "    </tr>\n",
       "    <tr>\n",
       "      <th>2</th>\n",
       "      <td>who had the most wins in the nfl</td>\n",
       "      <td>Active quarterback Tom Brady holds the records...</td>\n",
       "      <td>Tom Brady</td>\n",
       "    </tr>\n",
       "    <tr>\n",
       "      <th>3</th>\n",
       "      <td>who played mantis guardians of the galaxy 2</td>\n",
       "      <td>Pom Klementieff (born May 1986) is a French ac...</td>\n",
       "      <td>Pom Klementieff</td>\n",
       "    </tr>\n",
       "    <tr>\n",
       "      <th>4</th>\n",
       "      <td>the nashville sound brought a polished and cos...</td>\n",
       "      <td>In the early 1960s, the Nashville sound began ...</td>\n",
       "      <td>The use of lush string arrangements with a rea...</td>\n",
       "    </tr>\n",
       "    <tr>\n",
       "      <th>...</th>\n",
       "      <td>...</td>\n",
       "      <td>...</td>\n",
       "      <td>...</td>\n",
       "    </tr>\n",
       "    <tr>\n",
       "      <th>86207</th>\n",
       "      <td>when does season 5 of senora acero come out</td>\n",
       "      <td>The fifth season of the American television se...</td>\n",
       "      <td>15 October 2018</td>\n",
       "    </tr>\n",
       "    <tr>\n",
       "      <th>86208</th>\n",
       "      <td>when does the casino open in springfield ma</td>\n",
       "      <td>MGM Springfield is a $960 million resort casin...</td>\n",
       "      <td>August 24th, 2018</td>\n",
       "    </tr>\n",
       "    <tr>\n",
       "      <th>86209</th>\n",
       "      <td>who said no to this is your life</td>\n",
       "      <td>Footballer Danny Blanch flower turned down the...</td>\n",
       "      <td>Footballer Danny Blanch flower</td>\n",
       "    </tr>\n",
       "    <tr>\n",
       "      <th>86210</th>\n",
       "      <td>who have been the hosts of the price is right</td>\n",
       "      <td>The Price Is Right is a television game show f...</td>\n",
       "      <td>Bill Cullen, Bob Barker, Drew Carey</td>\n",
       "    </tr>\n",
       "    <tr>\n",
       "      <th>86211</th>\n",
       "      <td>who plays grey worm on game of thrones</td>\n",
       "      <td>Jacob Basil Anderson (born 18 June 1990) is an...</td>\n",
       "      <td>Jacob Basil Anderson</td>\n",
       "    </tr>\n",
       "  </tbody>\n",
       "</table>\n",
       "<p>86212 rows × 3 columns</p>\n",
       "</div>"
      ],
      "text/plain": [
       "                                                question  \\\n",
       "0      which is the most common use of opt-in e-mail ...   \n",
       "1                how i.met your mother who is the mother   \n",
       "2                       who had the most wins in the nfl   \n",
       "3            who played mantis guardians of the galaxy 2   \n",
       "4      the nashville sound brought a polished and cos...   \n",
       "...                                                  ...   \n",
       "86207        when does season 5 of senora acero come out   \n",
       "86208        when does the casino open in springfield ma   \n",
       "86209                   who said no to this is your life   \n",
       "86210      who have been the hosts of the price is right   \n",
       "86211             who plays grey worm on game of thrones   \n",
       "\n",
       "                                            long_answers  \\\n",
       "0      A common example of permission marketing is a ...   \n",
       "1      Tracy McConnell, better known as `` The Mother...   \n",
       "2      Active quarterback Tom Brady holds the records...   \n",
       "3      Pom Klementieff (born May 1986) is a French ac...   \n",
       "4      In the early 1960s, the Nashville sound began ...   \n",
       "...                                                  ...   \n",
       "86207  The fifth season of the American television se...   \n",
       "86208  MGM Springfield is a $960 million resort casin...   \n",
       "86209  Footballer Danny Blanch flower turned down the...   \n",
       "86210  The Price Is Right is a television game show f...   \n",
       "86211  Jacob Basil Anderson (born 18 June 1990) is an...   \n",
       "\n",
       "                                           short_answers  \n",
       "0      A newsletter sent to an advertising firm's cus...  \n",
       "1                                        Tracy McConnell  \n",
       "2                                              Tom Brady  \n",
       "3                                        Pom Klementieff  \n",
       "4      The use of lush string arrangements with a rea...  \n",
       "...                                                  ...  \n",
       "86207                                    15 October 2018  \n",
       "86208                                  August 24th, 2018  \n",
       "86209                     Footballer Danny Blanch flower  \n",
       "86210                Bill Cullen, Bob Barker, Drew Carey  \n",
       "86211                               Jacob Basil Anderson  \n",
       "\n",
       "[86212 rows x 3 columns]"
      ]
     },
     "execution_count": 5,
     "metadata": {},
     "output_type": "execute_result"
    }
   ],
   "source": [
    "datasets['Natural-Questions-Filtered']"
   ]
  },
  {
   "cell_type": "code",
   "execution_count": 10,
   "metadata": {},
   "outputs": [],
   "source": [
    "\n",
    "question_samples=datasets['Natural-Questions-Filtered'].sample(n=20000,random_state=18)\n",
    "del question_samples['long_answers']\n"
   ]
  },
  {
   "cell_type": "code",
   "execution_count": 11,
   "metadata": {},
   "outputs": [],
   "source": [
    "def prefix(q:str):\n",
    "    return  f\"Answer the question concisely with only the answer: {q}? Answer:\""
   ]
  },
  {
   "cell_type": "code",
   "execution_count": 12,
   "metadata": {},
   "outputs": [],
   "source": [
    "question_samples['question']=[prefix(x) for x in question_samples['question']]"
   ]
  },
  {
   "cell_type": "code",
   "execution_count": 13,
   "metadata": {},
   "outputs": [
    {
     "data": {
      "text/html": [
       "<div>\n",
       "<style scoped>\n",
       "    .dataframe tbody tr th:only-of-type {\n",
       "        vertical-align: middle;\n",
       "    }\n",
       "\n",
       "    .dataframe tbody tr th {\n",
       "        vertical-align: top;\n",
       "    }\n",
       "\n",
       "    .dataframe thead th {\n",
       "        text-align: right;\n",
       "    }\n",
       "</style>\n",
       "<table border=\"1\" class=\"dataframe\">\n",
       "  <thead>\n",
       "    <tr style=\"text-align: right;\">\n",
       "      <th></th>\n",
       "      <th>question</th>\n",
       "      <th>short_answers</th>\n",
       "    </tr>\n",
       "  </thead>\n",
       "  <tbody>\n",
       "    <tr>\n",
       "      <th>13221</th>\n",
       "      <td>Answer the question concisely with only the an...</td>\n",
       "      <td>Fiery one</td>\n",
       "    </tr>\n",
       "    <tr>\n",
       "      <th>5205</th>\n",
       "      <td>Answer the question concisely with only the an...</td>\n",
       "      <td>Clemson</td>\n",
       "    </tr>\n",
       "    <tr>\n",
       "      <th>15518</th>\n",
       "      <td>Answer the question concisely with only the an...</td>\n",
       "      <td>IS agent Kim so - hymn (Bung - Hun), Who embar...</td>\n",
       "    </tr>\n",
       "    <tr>\n",
       "      <th>59229</th>\n",
       "      <td>Answer the question concisely with only the an...</td>\n",
       "      <td>Ramsey</td>\n",
       "    </tr>\n",
       "    <tr>\n",
       "      <th>42550</th>\n",
       "      <td>Answer the question concisely with only the an...</td>\n",
       "      <td>Arthur Re snick, Joey Levine</td>\n",
       "    </tr>\n",
       "    <tr>\n",
       "      <th>...</th>\n",
       "      <td>...</td>\n",
       "      <td>...</td>\n",
       "    </tr>\n",
       "    <tr>\n",
       "      <th>82319</th>\n",
       "      <td>Answer the question concisely with only the an...</td>\n",
       "      <td>ATP produced by mitochondria</td>\n",
       "    </tr>\n",
       "    <tr>\n",
       "      <th>22766</th>\n",
       "      <td>Answer the question concisely with only the an...</td>\n",
       "      <td>In honor of the House of Orange - Nassau, Whic...</td>\n",
       "    </tr>\n",
       "    <tr>\n",
       "      <th>11447</th>\n",
       "      <td>Answer the question concisely with only the an...</td>\n",
       "      <td>Tim Hardin</td>\n",
       "    </tr>\n",
       "    <tr>\n",
       "      <th>9261</th>\n",
       "      <td>Answer the question concisely with only the an...</td>\n",
       "      <td>West Bengal</td>\n",
       "    </tr>\n",
       "    <tr>\n",
       "      <th>14285</th>\n",
       "      <td>Answer the question concisely with only the an...</td>\n",
       "      <td>Environments with large amounts of data</td>\n",
       "    </tr>\n",
       "  </tbody>\n",
       "</table>\n",
       "<p>20000 rows × 2 columns</p>\n",
       "</div>"
      ],
      "text/plain": [
       "                                                question  \\\n",
       "13221  Answer the question concisely with only the an...   \n",
       "5205   Answer the question concisely with only the an...   \n",
       "15518  Answer the question concisely with only the an...   \n",
       "59229  Answer the question concisely with only the an...   \n",
       "42550  Answer the question concisely with only the an...   \n",
       "...                                                  ...   \n",
       "82319  Answer the question concisely with only the an...   \n",
       "22766  Answer the question concisely with only the an...   \n",
       "11447  Answer the question concisely with only the an...   \n",
       "9261   Answer the question concisely with only the an...   \n",
       "14285  Answer the question concisely with only the an...   \n",
       "\n",
       "                                           short_answers  \n",
       "13221                                          Fiery one  \n",
       "5205                                             Clemson  \n",
       "15518  IS agent Kim so - hymn (Bung - Hun), Who embar...  \n",
       "59229                                             Ramsey  \n",
       "42550                       Arthur Re snick, Joey Levine  \n",
       "...                                                  ...  \n",
       "82319                       ATP produced by mitochondria  \n",
       "22766  In honor of the House of Orange - Nassau, Whic...  \n",
       "11447                                         Tim Hardin  \n",
       "9261                                         West Bengal  \n",
       "14285            Environments with large amounts of data  \n",
       "\n",
       "[20000 rows x 2 columns]"
      ]
     },
     "execution_count": 13,
     "metadata": {},
     "output_type": "execute_result"
    }
   ],
   "source": [
    "question_samples"
   ]
  },
  {
   "cell_type": "code",
   "execution_count": 16,
   "metadata": {},
   "outputs": [],
   "source": [
    "question_samples.to_csv('natural_questions_sample_20k.csv',index_label=\"ID\")"
   ]
  },
  {
   "cell_type": "code",
   "execution_count": null,
   "metadata": {},
   "outputs": [],
   "source": []
  }
 ],
 "metadata": {
  "kernelspec": {
   "display_name": "ML",
   "language": "python",
   "name": "python3"
  },
  "language_info": {
   "codemirror_mode": {
    "name": "ipython",
    "version": 3
   },
   "file_extension": ".py",
   "mimetype": "text/x-python",
   "name": "python",
   "nbconvert_exporter": "python",
   "pygments_lexer": "ipython3",
   "version": "3.8.20"
  }
 },
 "nbformat": 4,
 "nbformat_minor": 2
}
